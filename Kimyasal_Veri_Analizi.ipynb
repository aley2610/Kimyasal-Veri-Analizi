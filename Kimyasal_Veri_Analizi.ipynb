{
  "nbformat": 4,
  "nbformat_minor": 0,
  "metadata": {
    "colab": {
      "provenance": [],
      "authorship_tag": "ABX9TyOS+Xq9vHsWBW7u+219wOVa",
      "include_colab_link": true
    },
    "kernelspec": {
      "name": "python3",
      "display_name": "Python 3"
    },
    "language_info": {
      "name": "python"
    }
  },
  "cells": [
    {
      "cell_type": "markdown",
      "metadata": {
        "id": "view-in-github",
        "colab_type": "text"
      },
      "source": [
        "<a href=\"https://colab.research.google.com/github/aley2610/Kimyasal-Veri-Analizi/blob/main/Kimyasal_Veri_Analizi.ipynb\" target=\"_parent\"><img src=\"https://colab.research.google.com/assets/colab-badge.svg\" alt=\"Open In Colab\"/></a>"
      ]
    },
    {
      "cell_type": "code",
      "execution_count": null,
      "metadata": {
        "id": "Jp7ZifgMPtxT"
      },
      "outputs": [],
      "source": [
        "import openpyxl\n",
        "import pandas as pd\n",
        "\n",
        "# Excel dosyasının yolu\n",
        "excel_dosya=\"DeşarjStandartları.xlsx\"\n",
        "\n",
        "# Atıksu tipini kullanıcıdan al\n",
        "atiksu_tipi=input(\"Atıksu tipini girin: \")\n",
        "\n",
        "# Excel dosyasını oku\n",
        "excel_data=pd.ExcelFile(excel_dosya)\n",
        "\n",
        "# Bütün sayfa isimlerini al\n",
        "sayfa_listesi=excel_data.sheet_names\n",
        "\n",
        "# Atıksu tipine uygun olan sayfayı bul\n",
        "bulunan_sayfa=None\n",
        "for sayfa in sayfa_listesi:\n",
        "    if atiksu_tipi.lower() in sayfa.lower():\n",
        "        bulunan_sayfa=sayfa\n",
        "        break\n",
        "\n",
        "if bulunan_sayfa is None:\n",
        "    print(\"Atıksu tipi için uygun sayfa bulunamadı.\")\n",
        "else:\n",
        "    # Sayfayı DataFrame olarak oku\n",
        "    df=excel_data.parse(sheet_name=bulunan_sayfa)\n",
        "\n",
        "    # Tabloyu göster\n",
        "    print(\"Tablo:\")\n",
        "    print(df)\n",
        "\n",
        "    # Parametre değerlerini sor ve değerlendir\n",
        "    for index, row in df.iterrows():\n",
        "        parametre = row[\"Parametre\"]\n",
        "        deger=input(f\"{parametre} değerinizi girin: \")\n",
        "\n",
        "        if float(deger)>row[\"2 saatlik kompozit numune\"]:\n",
        "            print(\"Atıksu deşarja uygun değil.\")\n",
        "            break\n",
        "        else:\n",
        "            print(\"Atıksu deşarja uygun.\")\n"
      ]
    }
  ]
}